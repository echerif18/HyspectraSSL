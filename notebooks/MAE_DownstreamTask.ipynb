{
 "cells": [
  {
   "cell_type": "markdown",
   "id": "c43a1fba-bb74-498c-97ed-ccfa9d88ea40",
   "metadata": {},
   "source": [
    "## Downstream task #########"
   ]
  },
  {
   "cell_type": "code",
   "execution_count": 1,
   "id": "943291c3",
   "metadata": {},
   "outputs": [],
   "source": [
    "import sys\n",
    "import os\n",
    "import warnings\n",
    "warnings.filterwarnings('ignore')  # ignore warnings, like ZeroDivision\n",
    "\n",
    "# Go up one directory from 'notebooks/' to project root\n",
    "project_root = os.path.abspath('..')\n",
    "sys.path.append(project_root)"
   ]
  },
  {
   "cell_type": "code",
   "execution_count": 2,
   "id": "71823362-13a8-4fc9-83ce-395677d7d5bf",
   "metadata": {},
   "outputs": [
    {
     "name": "stdout",
     "output_type": "stream",
     "text": [
      "GPU is available. Using GPU for computation.\n"
     ]
    }
   ],
   "source": [
    "import torch\n",
    "\n",
    "# Check if GPU is available\n",
    "if torch.cuda.is_available():\n",
    "    # Set the device to GPU\n",
    "    device = torch.device(\"cuda\")\n",
    "    print(\"GPU is available. Using GPU for computation.\")\n",
    "else:\n",
    "    # If GPU is not available, fall back to CPU\n",
    "    device = torch.device(\"cpu\")\n",
    "    print(\"GPU is not available. Using CPU for computation.\")"
   ]
  },
  {
   "cell_type": "code",
   "execution_count": null,
   "id": "6f0dc431",
   "metadata": {},
   "outputs": [],
   "source": [
    "from src.transformation_utils import *\n",
    "from src.utils_all import *\n",
    "from src.utils_data import *\n",
    "\n",
    "from src.MAE.utils_mae import *\n",
    "from src.MAE.trainer_mae import *\n",
    "from src.MAE.MAE_1D import *\n",
    "from src.MAE.multi_trait import *\n",
    "from src.MAE.trainer_trait import *\n",
    "\n",
    "from huggingface_hub import hf_hub_download\n",
    "\n",
    "import gc\n",
    "\n",
    "##################\n",
    "d = 10\n",
    "h = 16\n",
    "w_loss = 1\n",
    "\n",
    "SeqSize = 20\n",
    "percentage_tr = 1\n",
    "batch_size = 256\n",
    "\n",
    "perc = 100\n",
    "\n",
    "# ###  if locally ####\n",
    "# checkpoints_path = 'mae_model/checkpoints_MAE_250415_0421_Training100_allUNlabels_155_New_128/'\n",
    "# checkpoint_dir_mae = os.path.join(project_root, checkpoints_path)\n",
    "# ################ Data ###############\n",
    "# path_data_lb = os.path.join(project_root, \"Datasets/50_all_traits.csv\")\n",
    "\n",
    "### On HF ###\n",
    "repo_id = \"Avatarr05/GreenHyperSpectra\"\n",
    "filename = \"labeled_all/all.csv\"  # path inside the repo\n",
    "\n",
    "# repo_type='dataset' is required for dataset repos\n",
    "path_data_lb = hf_hub_download(\n",
    "    repo_id=repo_id,\n",
    "    filename=filename,\n",
    "    repo_type=\"dataset\"\n",
    ")\n",
    "\n",
    "repo_id = \"Avatarr05/Multi-trait_SSL\"\n",
    "model_id = 'mae/checkpoints_MAE_FR_seed155'"
   ]
  },
  {
   "cell_type": "code",
   "execution_count": null,
   "id": "a01ee9ad",
   "metadata": {},
   "outputs": [],
   "source": [
    "##### On Hugging Face ###\n",
    "\n",
    "# #### MAE_FR>> bands:1720, type_sp='full' default\n",
    "# #### MAE_HR>> bands:500, type_sp='full'\n",
    "# ### MAE_FR_HR >> bands:1720, type_sp='half'\n",
    "\n",
    "### Linear probing with 3 seeds ##\n",
    "mean_metrics, std_metrics = run_consistent_experiment(path_data_lb, seeds=[155, 381, 187], fine_tune=False, n_epochs = 200, percentage_tr=1, type_sp='full', n_bands=1720,  save=False, name='', HF=True, repo_id=repo_id, model_id=model_id)\n",
    "### Fine Tuning with 3 seeds ##\n",
    "mean_metrics, std_metrics = run_consistent_experiment(path_data_lb, seeds=[155, 381, 187], fine_tune=True, n_epochs = 80, percentage_tr=1, type_sp='full', n_bands=1720,  save=False, name='', HF=True, repo_id=repo_id, model_id=model_id)\n"
   ]
  },
  {
   "cell_type": "code",
   "execution_count": 6,
   "id": "79c59139",
   "metadata": {},
   "outputs": [],
   "source": [
    "# # if local ##\n",
    "# # #### MAE_FR>> bands:1720, type_sp='full' default\n",
    "# # #### MAE_HR>> bands:500, type_sp='full'\n",
    "# # ### MAE_FR_HR >> bands:1720, type_sp='half'\n",
    "\n",
    "# mean_metrics, std_metrics = run_consistent_experiment(path_data_lb, seeds=[155, 381, 187], fine_tune=False, n_epochs = 200, percentage_tr=1, type_sp='full', n_bands=1720,  save=False, name='', checkpoint_dir_mae=checkpoint_dir_mae)\n",
    "# mean_metrics, std_metrics = run_consistent_experiment(path_data_lb, seeds=[155, 381, 187], fine_tune=True, n_epochs = 80, percentage_tr=1, type_sp='full', n_bands=1720,  save=False, name='', checkpoint_dir_mae=checkpoint_dir_mae)\n"
   ]
  },
  {
   "cell_type": "code",
   "execution_count": null,
   "id": "ade3f78f",
   "metadata": {},
   "outputs": [],
   "source": [
    "mean_metrics"
   ]
  },
  {
   "cell_type": "code",
   "execution_count": null,
   "id": "dcc8ebed",
   "metadata": {},
   "outputs": [],
   "source": [
    "std_metrics"
   ]
  }
 ],
 "metadata": {
  "kernelspec": {
   "display_name": "greenhyperspectra",
   "language": "python",
   "name": "python3"
  },
  "language_info": {
   "codemirror_mode": {
    "name": "ipython",
    "version": 3
   },
   "file_extension": ".py",
   "mimetype": "text/x-python",
   "name": "python",
   "nbconvert_exporter": "python",
   "pygments_lexer": "ipython3",
   "version": "3.8.2"
  }
 },
 "nbformat": 4,
 "nbformat_minor": 5
}
